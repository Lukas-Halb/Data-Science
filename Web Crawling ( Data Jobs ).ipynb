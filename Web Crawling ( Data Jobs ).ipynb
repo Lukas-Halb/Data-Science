{
 "cells": [
  {
   "cell_type": "code",
   "execution_count": 144,
   "metadata": {},
   "outputs": [],
   "source": [
    "import requests\n",
    "from bs4 import BeautifulSoup\n",
    "\n",
    "URL_Monster = 'https://www.monster.de/jobs/suche/?q=Werkstudent-Data&where=D__C3__BCsseldorf__2C-Nordrhein__2DWestfalen'\n",
    "page = requests.get(URL_Monster)\n",
    "\n",
    "soup = BeautifulSoup(page.content, 'html.parser')"
   ]
  },
  {
   "cell_type": "code",
   "execution_count": 145,
   "metadata": {},
   "outputs": [],
   "source": [
    "results = soup.find(id='ResultsContainer')\n",
    "job_elems = results.find_all('section', class_='card-content')\n",
    "jobs = []"
   ]
  },
  {
   "cell_type": "code",
   "execution_count": 146,
   "metadata": {},
   "outputs": [],
   "source": [
    "for job_elem in job_elems:\n",
    "    title_elem = job_elem.find('h2', class_='title')\n",
    "    company_elem = job_elem.find('div', class_='company')\n",
    "    location_elem = job_elem.find('div', class_='location')\n",
    "    \n",
    "    if None in (title_elem, company_elem, location_elem):\n",
    "        continue\n",
    "    (title_elem.text.strip())\n",
    "    (company_elem.text.strip())\n",
    "    (location_elem.text.strip())\n",
    "    link = job_elem.find('a')['href']\n",
    "    \n",
    "\n",
    "    jobs.append([title_elem.text.strip(), company_elem.text.strip(), location_elem.text.strip(), \"Monsterjobs\", link])"
   ]
  },
  {
   "cell_type": "code",
   "execution_count": 147,
   "metadata": {},
   "outputs": [],
   "source": [
    "URL_indeed = 'https://de.indeed.com/Jobs?q=Junior+Data+analyst&l=Home+Office'\n",
    "page_indeed = requests.get(URL_indeed)\n",
    "soup = BeautifulSoup(page_indeed.content, 'html.parser')"
   ]
  },
  {
   "cell_type": "code",
   "execution_count": 148,
   "metadata": {},
   "outputs": [],
   "source": [
    "results_indeed = soup.find(id='resultsCol')\n",
    "job_elems_indeed = results_indeed.find_all('div', class_='jobsearch-SerpJobCard')"
   ]
  },
  {
   "cell_type": "code",
   "execution_count": 149,
   "metadata": {
    "scrolled": false
   },
   "outputs": [],
   "source": [
    "#jobs = []\n",
    "for job_elem_indeed in job_elems_indeed:\n",
    "    title_elem_indeed = job_elem_indeed.find( class_='title').get_text()\n",
    "    company_elem_indeed = job_elem_indeed.find('span', class_='company')\n",
    "    location_elem_indeed = job_elem_indeed.find([\"div\", \"span\"] , class_='location')\n",
    "    \n",
    "    titleText = str(title_elem_indeed).strip()\n",
    "    companyText = company_elem_indeed.text.strip()\n",
    "    locationText = location_elem_indeed.text.strip()\n",
    "    link_indeed = 'www.indeed.com' + str(job_elem_indeed.find('a')['href'])\n",
    "    \n",
    "    \n",
    "    jobs.append([titleText, companyText, locationText, \"Indeed\", link_indeed])"
   ]
  },
  {
   "cell_type": "code",
   "execution_count": 150,
   "metadata": {},
   "outputs": [],
   "source": [
    "file = open(\"Data jobs 2020.csv\", \"w\")\n",
    "\n",
    "file.write(\"Title;Company;Location;source;Link\\n\")\n",
    "\n",
    "for job in jobs:\n",
    "    file.write(\";\".join(job)+\"\\n\")\n",
    "    \n",
    "file.close()"
   ]
  }
 ],
 "metadata": {
  "kernelspec": {
   "display_name": "Python 3",
   "language": "python",
   "name": "python3"
  },
  "language_info": {
   "codemirror_mode": {
    "name": "ipython",
    "version": 3
   },
   "file_extension": ".py",
   "mimetype": "text/x-python",
   "name": "python",
   "nbconvert_exporter": "python",
   "pygments_lexer": "ipython3",
   "version": "3.7.4"
  }
 },
 "nbformat": 4,
 "nbformat_minor": 2
}
